{
 "cells": [
  {
   "cell_type": "code",
   "execution_count": 25,
   "metadata": {},
   "outputs": [
    {
     "data": {
      "text/plain": [
       "(<Response [200]>, None)"
      ]
     },
     "execution_count": 25,
     "metadata": {},
     "output_type": "execute_result"
    }
   ],
   "source": [
    "import robin_stocks.robinhood as rh\n",
    "import robin_stocks.gemini as gem\n",
    "import robin_stocks.tda as tda\n",
    "gem.get_pubticker(\"btcusd\") \n",
    "\n",
    "\n"
   ]
  },
  {
   "cell_type": "code",
   "execution_count": 29,
   "metadata": {},
   "outputs": [
    {
     "ename": "KeyError",
     "evalue": "'status'",
     "output_type": "error",
     "traceback": [
      "\u001b[0;31m---------------------------------------------------------------------------\u001b[0m",
      "\u001b[0;31mKeyError\u001b[0m                                  Traceback (most recent call last)",
      "Cell \u001b[0;32mIn[29], line 1\u001b[0m\n\u001b[0;32m----> 1\u001b[0m login \u001b[38;5;241m=\u001b[39m \u001b[43mrh\u001b[49m\u001b[38;5;241;43m.\u001b[39;49m\u001b[43mlogin\u001b[49m\u001b[43m(\u001b[49m\u001b[38;5;124;43m'\u001b[39;49m\u001b[38;5;124;43myang.v.wang@gmail.com\u001b[39;49m\u001b[38;5;124;43m'\u001b[39;49m\u001b[43m,\u001b[49m\u001b[38;5;124;43m'\u001b[39;49m\u001b[38;5;124;43mLove520520!\u001b[39;49m\u001b[38;5;124;43m'\u001b[39;49m\u001b[43m)\u001b[49m\n",
      "File \u001b[0;32m~/OneDrive_UTA/OneDrive - UT Arlington/mac/WorkSpace/FG-CRYPTO/.venv/lib/python3.9/site-packages/robin_stocks/robinhood/authentication.py:190\u001b[0m, in \u001b[0;36mlogin\u001b[0;34m(username, password, expiresIn, scope, by_sms, store_session, mfa_code, pickle_path, pickle_name)\u001b[0m\n\u001b[1;32m    188\u001b[0m \u001b[38;5;28;01melif\u001b[39;00m \u001b[38;5;124m'\u001b[39m\u001b[38;5;124mverification_workflow\u001b[39m\u001b[38;5;124m'\u001b[39m \u001b[38;5;129;01min\u001b[39;00m data:\n\u001b[1;32m    189\u001b[0m     workflow_id \u001b[38;5;241m=\u001b[39m data[\u001b[38;5;124m'\u001b[39m\u001b[38;5;124mverification_workflow\u001b[39m\u001b[38;5;124m'\u001b[39m][\u001b[38;5;124m'\u001b[39m\u001b[38;5;124mid\u001b[39m\u001b[38;5;124m'\u001b[39m]\n\u001b[0;32m--> 190\u001b[0m     \u001b[43m_validate_sherrif_id\u001b[49m\u001b[43m(\u001b[49m\u001b[43mdevice_token\u001b[49m\u001b[38;5;241;43m=\u001b[39;49m\u001b[43mdevice_token\u001b[49m\u001b[43m,\u001b[49m\u001b[43m \u001b[49m\u001b[43mworkflow_id\u001b[49m\u001b[38;5;241;43m=\u001b[39;49m\u001b[43mworkflow_id\u001b[49m\u001b[43m,\u001b[49m\u001b[43m \u001b[49m\u001b[43mmfa_code\u001b[49m\u001b[38;5;241;43m=\u001b[39;49m\u001b[43mmfa_code\u001b[49m\u001b[43m)\u001b[49m\n\u001b[1;32m    191\u001b[0m     data \u001b[38;5;241m=\u001b[39m request_post(url, payload)\n\u001b[1;32m    192\u001b[0m \u001b[38;5;66;03m# Update Session data with authorization or raise exception with the information present in data.\u001b[39;00m\n",
      "File \u001b[0;32m~/OneDrive_UTA/OneDrive - UT Arlington/mac/WorkSpace/FG-CRYPTO/.venv/lib/python3.9/site-packages/robin_stocks/robinhood/authentication.py:233\u001b[0m, in \u001b[0;36m_validate_sherrif_id\u001b[0;34m(device_token, workflow_id, mfa_code)\u001b[0m\n\u001b[1;32m    229\u001b[0m challenge_payload \u001b[38;5;241m=\u001b[39m {\n\u001b[1;32m    230\u001b[0m     \u001b[38;5;124m'\u001b[39m\u001b[38;5;124mresponse\u001b[39m\u001b[38;5;124m'\u001b[39m: mfa_code\n\u001b[1;32m    231\u001b[0m }\n\u001b[1;32m    232\u001b[0m challenge_response \u001b[38;5;241m=\u001b[39m request_post(url\u001b[38;5;241m=\u001b[39mchallenge_url, payload\u001b[38;5;241m=\u001b[39mchallenge_payload,json\u001b[38;5;241m=\u001b[39m\u001b[38;5;28;01mTrue\u001b[39;00m )\n\u001b[0;32m--> 233\u001b[0m \u001b[38;5;28;01mif\u001b[39;00m \u001b[43mchallenge_response\u001b[49m\u001b[43m[\u001b[49m\u001b[38;5;124;43m\"\u001b[39;49m\u001b[38;5;124;43mstatus\u001b[39;49m\u001b[38;5;124;43m\"\u001b[39;49m\u001b[43m]\u001b[49m \u001b[38;5;241m==\u001b[39m \u001b[38;5;124m\"\u001b[39m\u001b[38;5;124mvalidated\u001b[39m\u001b[38;5;124m\"\u001b[39m:\n\u001b[1;32m    234\u001b[0m     inquiries_payload \u001b[38;5;241m=\u001b[39m {\u001b[38;5;124m\"\u001b[39m\u001b[38;5;124msequence\u001b[39m\u001b[38;5;124m\"\u001b[39m:\u001b[38;5;241m0\u001b[39m,\u001b[38;5;124m\"\u001b[39m\u001b[38;5;124muser_input\u001b[39m\u001b[38;5;124m\"\u001b[39m:{\u001b[38;5;124m\"\u001b[39m\u001b[38;5;124mstatus\u001b[39m\u001b[38;5;124m\"\u001b[39m:\u001b[38;5;124m\"\u001b[39m\u001b[38;5;124mcontinue\u001b[39m\u001b[38;5;124m\"\u001b[39m}}\n\u001b[1;32m    235\u001b[0m     inquiries_response \u001b[38;5;241m=\u001b[39m request_post(url\u001b[38;5;241m=\u001b[39minquiries_url, payload\u001b[38;5;241m=\u001b[39minquiries_payload,json\u001b[38;5;241m=\u001b[39m\u001b[38;5;28;01mTrue\u001b[39;00m )\n",
      "\u001b[0;31mKeyError\u001b[0m: 'status'"
     ]
    }
   ],
   "source": [
    "login = rh.login('yang.v.wang@gmail.com','Love520520!')"
   ]
  },
  {
   "cell_type": "code",
   "execution_count": 23,
   "metadata": {},
   "outputs": [
    {
     "name": "stdout",
     "output_type": "stream",
     "text": [
      "Collecting robin_stocks\n",
      "  Downloading robin_stocks-3.3.1-py3-none-any.whl.metadata (5.2 kB)\n",
      "Requirement already satisfied: requests in /Users/noma/OneDrive_UTA/OneDrive - UT Arlington/mac/WorkSpace/FG-CRYPTO/.venv/lib/python3.9/site-packages (from robin_stocks) (2.32.3)\n",
      "Collecting pyotp (from robin_stocks)\n",
      "  Downloading pyotp-2.9.0-py3-none-any.whl.metadata (9.8 kB)\n",
      "Collecting python-dotenv (from robin_stocks)\n",
      "  Downloading python_dotenv-1.0.1-py3-none-any.whl.metadata (23 kB)\n",
      "Collecting cryptography (from robin_stocks)\n",
      "  Downloading cryptography-44.0.2-cp39-abi3-macosx_10_9_universal2.whl.metadata (5.7 kB)\n",
      "Collecting cffi>=1.12 (from cryptography->robin_stocks)\n",
      "  Downloading cffi-1.17.1-cp39-cp39-macosx_11_0_arm64.whl.metadata (1.5 kB)\n",
      "Requirement already satisfied: charset-normalizer<4,>=2 in /Users/noma/OneDrive_UTA/OneDrive - UT Arlington/mac/WorkSpace/FG-CRYPTO/.venv/lib/python3.9/site-packages (from requests->robin_stocks) (3.3.2)\n",
      "Requirement already satisfied: idna<4,>=2.5 in /Users/noma/OneDrive_UTA/OneDrive - UT Arlington/mac/WorkSpace/FG-CRYPTO/.venv/lib/python3.9/site-packages (from requests->robin_stocks) (3.10)\n",
      "Requirement already satisfied: urllib3<3,>=1.21.1 in /Users/noma/OneDrive_UTA/OneDrive - UT Arlington/mac/WorkSpace/FG-CRYPTO/.venv/lib/python3.9/site-packages (from requests->robin_stocks) (2.2.3)\n",
      "Requirement already satisfied: certifi>=2017.4.17 in /Users/noma/OneDrive_UTA/OneDrive - UT Arlington/mac/WorkSpace/FG-CRYPTO/.venv/lib/python3.9/site-packages (from requests->robin_stocks) (2024.8.30)\n",
      "Collecting pycparser (from cffi>=1.12->cryptography->robin_stocks)\n",
      "  Using cached pycparser-2.22-py3-none-any.whl.metadata (943 bytes)\n",
      "Downloading robin_stocks-3.3.1-py3-none-any.whl (134 kB)\n",
      "Downloading cryptography-44.0.2-cp39-abi3-macosx_10_9_universal2.whl (6.7 MB)\n",
      "\u001b[2K   \u001b[90m━━━━━━━━━━━━━━━━━━━━━━━━━━━━━━━━━━━━━━━━\u001b[0m \u001b[32m6.7/6.7 MB\u001b[0m \u001b[31m4.3 MB/s\u001b[0m eta \u001b[36m0:00:00\u001b[0ma \u001b[36m0:00:01\u001b[0m\n",
      "\u001b[?25hDownloading pyotp-2.9.0-py3-none-any.whl (13 kB)\n",
      "Downloading python_dotenv-1.0.1-py3-none-any.whl (19 kB)\n",
      "Downloading cffi-1.17.1-cp39-cp39-macosx_11_0_arm64.whl (178 kB)\n",
      "Using cached pycparser-2.22-py3-none-any.whl (117 kB)\n",
      "Installing collected packages: python-dotenv, pyotp, pycparser, cffi, cryptography, robin_stocks\n",
      "Successfully installed cffi-1.17.1 cryptography-44.0.2 pycparser-2.22 pyotp-2.9.0 python-dotenv-1.0.1 robin_stocks-3.3.1\n",
      "\n",
      "\u001b[1m[\u001b[0m\u001b[34;49mnotice\u001b[0m\u001b[1;39;49m]\u001b[0m\u001b[39;49m A new release of pip is available: \u001b[0m\u001b[31;49m24.2\u001b[0m\u001b[39;49m -> \u001b[0m\u001b[32;49m25.0.1\u001b[0m\n",
      "\u001b[1m[\u001b[0m\u001b[34;49mnotice\u001b[0m\u001b[1;39;49m]\u001b[0m\u001b[39;49m To update, run: \u001b[0m\u001b[32;49mpip install --upgrade pip\u001b[0m\n"
     ]
    }
   ],
   "source": [
    "!python3 -m pip install robin_stocks"
   ]
  }
 ],
 "metadata": {
  "kernelspec": {
   "display_name": ".venv",
   "language": "python",
   "name": "python3"
  },
  "language_info": {
   "codemirror_mode": {
    "name": "ipython",
    "version": 3
   },
   "file_extension": ".py",
   "mimetype": "text/x-python",
   "name": "python",
   "nbconvert_exporter": "python",
   "pygments_lexer": "ipython3",
   "version": "3.11.5"
  }
 },
 "nbformat": 4,
 "nbformat_minor": 2
}
